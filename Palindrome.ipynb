{
 "cells": [
  {
   "cell_type": "code",
   "execution_count": 21,
   "id": "8e0c3253",
   "metadata": {},
   "outputs": [],
   "source": [
    "def pal2(n):\n",
    "    a = list(n)\n",
    "    l= len(a)\n",
    "    nl=list()\n",
    "    for i in range (l-1,-1,-1):\n",
    "        nl.append(a[i])\n",
    "    st= ''.join(nl)\n",
    "    if  st== n:\n",
    "        print (True)\n",
    "    else:\n",
    "        print (False)"
   ]
  },
  {
   "cell_type": "code",
   "execution_count": 15,
   "id": "ebeba05e",
   "metadata": {},
   "outputs": [],
   "source": [
    "def pal(n):\n",
    "    s=''.join(list(reversed(n)))\n",
    "    if  s== n:\n",
    "        print (True)\n",
    "    else:\n",
    "        print (False)"
   ]
  },
  {
   "cell_type": "code",
   "execution_count": 24,
   "id": "ec76fabe",
   "metadata": {},
   "outputs": [
    {
     "name": "stdout",
     "output_type": "stream",
     "text": [
      "True\n"
     ]
    }
   ],
   "source": [
    "pal2('radar')"
   ]
  },
  {
   "cell_type": "code",
   "execution_count": 30,
   "id": "9a08cee9",
   "metadata": {},
   "outputs": [],
   "source": [
    "def pal2(n):\n",
    "    left = 0\n",
    "    right = len(n)-1\n",
    "    while left<=right:\n",
    "        if n[left]==n[right]:\n",
    "            left= left + 1\n",
    "            right= right -1\n",
    "            \n",
    "        else:\n",
    "            return False\n",
    "    return True\n",
    "    "
   ]
  },
  {
   "cell_type": "code",
   "execution_count": 34,
   "id": "0e8d0d90",
   "metadata": {},
   "outputs": [
    {
     "data": {
      "text/plain": [
       "True"
      ]
     },
     "execution_count": 34,
     "metadata": {},
     "output_type": "execute_result"
    }
   ],
   "source": [
    "pal2('malayalam')"
   ]
  },
  {
   "cell_type": "code",
   "execution_count": null,
   "id": "97e25070",
   "metadata": {},
   "outputs": [],
   "source": []
  }
 ],
 "metadata": {
  "kernelspec": {
   "display_name": "Python 3 (ipykernel)",
   "language": "python",
   "name": "python3"
  },
  "language_info": {
   "codemirror_mode": {
    "name": "ipython",
    "version": 3
   },
   "file_extension": ".py",
   "mimetype": "text/x-python",
   "name": "python",
   "nbconvert_exporter": "python",
   "pygments_lexer": "ipython3",
   "version": "3.9.7"
  }
 },
 "nbformat": 4,
 "nbformat_minor": 5
}
